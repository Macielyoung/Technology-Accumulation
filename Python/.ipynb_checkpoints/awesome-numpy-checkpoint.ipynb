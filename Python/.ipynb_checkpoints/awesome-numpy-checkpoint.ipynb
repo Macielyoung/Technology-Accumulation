{
 "cells": [
  {
   "cell_type": "code",
   "execution_count": 1,
   "metadata": {},
   "outputs": [
    {
     "name": "stdout",
     "output_type": "stream",
     "text": [
      "[0. 0. 0. 0. 0. 0. 0. 0. 0. 0.]\n"
     ]
    }
   ],
   "source": [
    "## numpy的一些基本操作\n",
    "## 参考100 numpy exercise: https://github.com/rougier/numpy-100/blob/master/100_Numpy_exercises.md\n",
    "\n",
    "import numpy as np\n",
    "\n",
    "# 1.创建长度为10的一维0向量\n",
    "Zero = np.zeros(10)\n",
    "print(Zero)"
   ]
  },
  {
   "cell_type": "code",
   "execution_count": 2,
   "metadata": {},
   "outputs": [
    {
     "name": "stdout",
     "output_type": "stream",
     "text": [
      "[10 11 12 13 14 15 16 17 18 19 20 21 22 23 24 25 26 27 28 29 30 31 32 33\n",
      " 34 35 36 37 38 39 40 41 42 43 44 45 46 47 48 49]\n",
      "[49 48 47 46 45 44 43 42 41 40 39 38 37 36 35 34 33 32 31 30 29 28 27 26\n",
      " 25 24 23 22 21 20 19 18 17 16 15 14 13 12 11 10]\n"
     ]
    }
   ],
   "source": [
    "# 2.生成一个值在[10, 49]的向量，再翻转\n",
    "random_vector = np.arange(10, 50)\n",
    "print(random_vector)\n",
    "reverse_vector = random_vector[::-1]\n",
    "print(reverse_vector)"
   ]
  },
  {
   "cell_type": "code",
   "execution_count": 3,
   "metadata": {},
   "outputs": [
    {
     "name": "stdout",
     "output_type": "stream",
     "text": [
      "[[0 1 2]\n",
      " [3 4 5]\n",
      " [6 7 8]]\n"
     ]
    }
   ],
   "source": [
    "# 3.生成一个3*3的向量，值在0-8\n",
    "two_dim_vec = np.arange(9).reshape(3, 3)\n",
    "print(two_dim_vec)"
   ]
  },
  {
   "cell_type": "code",
   "execution_count": 4,
   "metadata": {},
   "outputs": [
    {
     "name": "stdout",
     "output_type": "stream",
     "text": [
      "(array([0, 1, 4, 6]),)\n"
     ]
    }
   ],
   "source": [
    "# 4.找出列表中非零项元素的索引\n",
    "nz = np.nonzero([1, 2, 0, 0, 4, 0, 1, 0])\n",
    "print(nz)"
   ]
  },
  {
   "cell_type": "code",
   "execution_count": 5,
   "metadata": {},
   "outputs": [
    {
     "name": "stdout",
     "output_type": "stream",
     "text": [
      "[[1. 0. 0.]\n",
      " [0. 1. 0.]\n",
      " [0. 0. 1.]]\n"
     ]
    }
   ],
   "source": [
    "# 5.创建一个3阶单位矩阵\n",
    "ni3 = np.eye(3)\n",
    "print(ni3)"
   ]
  },
  {
   "cell_type": "code",
   "execution_count": 6,
   "metadata": {},
   "outputs": [
    {
     "name": "stdout",
     "output_type": "stream",
     "text": [
      "[[1. 1. 1. 1. 1.]\n",
      " [1. 1. 1. 1. 1.]\n",
      " [1. 1. 1. 1. 1.]\n",
      " [1. 1. 1. 1. 1.]\n",
      " [1. 1. 1. 1. 1.]]\n",
      "[[0. 0. 0. 0. 0. 0. 0.]\n",
      " [0. 1. 1. 1. 1. 1. 0.]\n",
      " [0. 1. 1. 1. 1. 1. 0.]\n",
      " [0. 1. 1. 1. 1. 1. 0.]\n",
      " [0. 1. 1. 1. 1. 1. 0.]\n",
      " [0. 1. 1. 1. 1. 1. 0.]\n",
      " [0. 0. 0. 0. 0. 0. 0.]]\n"
     ]
    }
   ],
   "source": [
    "# 6.在一个已有的矩阵上增加一个边界（比如边界都为0）\n",
    "no5 = np.ones((5, 5))\n",
    "print(no5)\n",
    "no5 = np.pad(no5, pad_width=1, mode='constant', constant_values=0)\n",
    "print(no5)"
   ]
  },
  {
   "cell_type": "code",
   "execution_count": 7,
   "metadata": {},
   "outputs": [
    {
     "name": "stdout",
     "output_type": "stream",
     "text": [
      "(1, 5, 3)\n"
     ]
    }
   ],
   "source": [
    "# 7.在6*7*8的矩阵中第100个元素的索引\n",
    "print(np.unravel_index(99,(6,7,8)))"
   ]
  },
  {
   "cell_type": "code",
   "execution_count": 8,
   "metadata": {},
   "outputs": [
    {
     "name": "stdout",
     "output_type": "stream",
     "text": [
      "[[ 0.35970547 -1.07092522  1.04011819  0.44952082  1.58494228]\n",
      " [ 0.86395814  0.97106493 -0.04453974 -1.69008981 -0.83938591]\n",
      " [-1.62061711  0.28337144  1.07429919 -1.47458605 -0.07327108]\n",
      " [-0.73354092 -0.07964248  0.46016963  0.46684552 -1.6823213 ]\n",
      " [-0.27738803  0.67805876  1.24793572 -1.11534515  1.22166271]]\n"
     ]
    }
   ],
   "source": [
    "# 8.标准化一个5*5的随机矩阵\n",
    "Z = np.random.random((5,5))\n",
    "Z = (Z - np.mean (Z)) / (np.std (Z))\n",
    "print(Z)"
   ]
  },
  {
   "cell_type": "code",
   "execution_count": 9,
   "metadata": {},
   "outputs": [
    {
     "name": "stdout",
     "output_type": "stream",
     "text": [
      "[[3. 3.]\n",
      " [3. 3.]\n",
      " [3. 3.]\n",
      " [3. 3.]\n",
      " [3. 3.]]\n",
      "[[3. 3.]\n",
      " [3. 3.]\n",
      " [3. 3.]\n",
      " [3. 3.]\n",
      " [3. 3.]]\n"
     ]
    }
   ],
   "source": [
    "# 9.5*3的矩阵和3*2的矩阵相乘\n",
    "Z = np.dot(np.ones((5,3)), np.ones((3,2)))\n",
    "print(Z)\n",
    "\n",
    "Z = np.ones((5,3)) @ np.ones((3,2))\n",
    "print(Z)"
   ]
  },
  {
   "cell_type": "code",
   "execution_count": 10,
   "metadata": {},
   "outputs": [
    {
     "name": "stdout",
     "output_type": "stream",
     "text": [
      "[4 2 0 7 7 5 7 0 6 6]\n",
      "[7 5 6 6 7 1 3 8 2 5]\n",
      "[2 5 6 7]\n"
     ]
    }
   ],
   "source": [
    "# 10.求两个列表的交集\n",
    "Z1 = np.random.randint(0,10,10)\n",
    "Z2 = np.random.randint(0,10,10)\n",
    "print(Z1)\n",
    "print(Z2)\n",
    "print(np.intersect1d(Z1,Z2))"
   ]
  },
  {
   "cell_type": "code",
   "execution_count": 11,
   "metadata": {},
   "outputs": [
    {
     "name": "stdout",
     "output_type": "stream",
     "text": [
      "2019-02-10\n",
      "2019-02-11\n",
      "2019-02-12\n"
     ]
    }
   ],
   "source": [
    "# 11.计算昨天，今天，明天的日期\n",
    "yesterday = np.datetime64('today', 'D') - np.timedelta64(1, 'D')\n",
    "today     = np.datetime64('today', 'D')\n",
    "tomorrow  = np.datetime64('today', 'D') + np.timedelta64(1, 'D')\n",
    "print(yesterday)\n",
    "print(today)\n",
    "print(tomorrow)"
   ]
  },
  {
   "cell_type": "code",
   "execution_count": 12,
   "metadata": {},
   "outputs": [
    {
     "name": "stdout",
     "output_type": "stream",
     "text": [
      "[7.46481209 9.76257142 0.3890991  3.02344398 6.79122362 6.30145019\n",
      " 4.2568393  8.20926196 9.16554066 3.9736453 ]\n",
      "[7. 9. 0. 3. 6. 6. 4. 8. 9. 3.]\n",
      "[7. 9. 0. 3. 6. 6. 4. 8. 9. 3.]\n",
      "[7. 9. 0. 3. 6. 6. 4. 8. 9. 3.]\n",
      "[7 9 0 3 6 6 4 8 9 3]\n",
      "[7. 9. 0. 3. 6. 6. 4. 8. 9. 3.]\n"
     ]
    }
   ],
   "source": [
    "# 12.求一个小数的整数部分\n",
    "Z = np.random.uniform(0,10,10)\n",
    "print(Z)\n",
    "print (Z - Z%1)\n",
    "print (np.floor(Z))\n",
    "print (np.ceil(Z)-1)\n",
    "print (Z.astype(int))\n",
    "print (np.trunc(Z))"
   ]
  },
  {
   "cell_type": "code",
   "execution_count": 13,
   "metadata": {},
   "outputs": [
    {
     "name": "stdout",
     "output_type": "stream",
     "text": [
      "[0.69218607 0.7503235  0.         0.27870677 0.37562777 0.74560716\n",
      " 0.63375753 0.45998546 0.59121773 0.60544646]\n"
     ]
    }
   ],
   "source": [
    "# 13.向量中最大值替换为0\n",
    "Z = np.random.random(10)\n",
    "Z[Z.argmax()] = 0\n",
    "print(Z)"
   ]
  },
  {
   "cell_type": "code",
   "execution_count": null,
   "metadata": {},
   "outputs": [],
   "source": []
  }
 ],
 "metadata": {
  "kernelspec": {
   "display_name": "Python 3",
   "language": "python",
   "name": "python3"
  },
  "language_info": {
   "codemirror_mode": {
    "name": "ipython",
    "version": 3
   },
   "file_extension": ".py",
   "mimetype": "text/x-python",
   "name": "python",
   "nbconvert_exporter": "python",
   "pygments_lexer": "ipython3",
   "version": "3.6.6"
  }
 },
 "nbformat": 4,
 "nbformat_minor": 2
}
