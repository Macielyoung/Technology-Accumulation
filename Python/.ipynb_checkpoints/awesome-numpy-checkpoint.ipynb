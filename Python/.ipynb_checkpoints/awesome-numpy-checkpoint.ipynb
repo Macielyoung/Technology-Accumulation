{
 "cells": [
  {
   "cell_type": "code",
   "execution_count": 2,
   "metadata": {},
   "outputs": [
    {
     "name": "stdout",
     "output_type": "stream",
     "text": [
      "[0. 0. 0. 0. 0. 0. 0. 0. 0. 0.]\n"
     ]
    }
   ],
   "source": [
    "## numpy的一些基本操作\n",
    "## 参考100 numpy exercise: https://github.com/rougier/numpy-100/blob/master/100_Numpy_exercises.md\n",
    "\n",
    "import numpy as np\n",
    "\n",
    "# 1.创建长度为10的一维0向量\n",
    "Zero = np.zeros(10)\n",
    "print(Zero)"
   ]
  },
  {
   "cell_type": "code",
   "execution_count": 3,
   "metadata": {},
   "outputs": [
    {
     "name": "stdout",
     "output_type": "stream",
     "text": [
      "[10 11 12 13 14 15 16 17 18 19 20 21 22 23 24 25 26 27 28 29 30 31 32 33\n",
      " 34 35 36 37 38 39 40 41 42 43 44 45 46 47 48 49]\n",
      "[49 48 47 46 45 44 43 42 41 40 39 38 37 36 35 34 33 32 31 30 29 28 27 26\n",
      " 25 24 23 22 21 20 19 18 17 16 15 14 13 12 11 10]\n"
     ]
    }
   ],
   "source": [
    "# 2.生成一个值在[10, 49]的向量，再翻转\n",
    "random_vector = np.arange(10, 50)\n",
    "print(random_vector)\n",
    "reverse_vector = random_vector[::-1]\n",
    "print(reverse_vector)"
   ]
  },
  {
   "cell_type": "code",
   "execution_count": 4,
   "metadata": {},
   "outputs": [
    {
     "name": "stdout",
     "output_type": "stream",
     "text": [
      "[[0 1 2]\n",
      " [3 4 5]\n",
      " [6 7 8]]\n"
     ]
    }
   ],
   "source": [
    "# 3.生成一个3*3的向量，值在0-8\n",
    "two_dim_vec = np.arange(9).reshape(3, 3)\n",
    "print(two_dim_vec)"
   ]
  },
  {
   "cell_type": "code",
   "execution_count": 5,
   "metadata": {},
   "outputs": [
    {
     "name": "stdout",
     "output_type": "stream",
     "text": [
      "(array([0, 1, 4, 6]),)\n"
     ]
    }
   ],
   "source": [
    "# 4.找出列表中非零项元素的索引\n",
    "nz = np.nonzero([1, 2, 0, 0, 4, 0, 1, 0])\n",
    "print(nz)"
   ]
  },
  {
   "cell_type": "code",
   "execution_count": 6,
   "metadata": {},
   "outputs": [
    {
     "name": "stdout",
     "output_type": "stream",
     "text": [
      "[[1. 0. 0.]\n",
      " [0. 1. 0.]\n",
      " [0. 0. 1.]]\n"
     ]
    }
   ],
   "source": [
    "# 5.创建一个3阶单位矩阵\n",
    "ni3 = np.eye(3)\n",
    "print(ni3)"
   ]
  },
  {
   "cell_type": "code",
   "execution_count": 7,
   "metadata": {},
   "outputs": [
    {
     "name": "stdout",
     "output_type": "stream",
     "text": [
      "[[1. 1. 1. 1. 1.]\n",
      " [1. 1. 1. 1. 1.]\n",
      " [1. 1. 1. 1. 1.]\n",
      " [1. 1. 1. 1. 1.]\n",
      " [1. 1. 1. 1. 1.]]\n",
      "[[0. 0. 0. 0. 0. 0. 0.]\n",
      " [0. 1. 1. 1. 1. 1. 0.]\n",
      " [0. 1. 1. 1. 1. 1. 0.]\n",
      " [0. 1. 1. 1. 1. 1. 0.]\n",
      " [0. 1. 1. 1. 1. 1. 0.]\n",
      " [0. 1. 1. 1. 1. 1. 0.]\n",
      " [0. 0. 0. 0. 0. 0. 0.]]\n"
     ]
    }
   ],
   "source": [
    "# 6.在一个已有的矩阵上增加一个边界（比如边界都为0）\n",
    "no5 = np.ones((5, 5))\n",
    "print(no5)\n",
    "no5 = np.pad(no5, pad_width=1, mode='constant', constant_values=0)\n",
    "print(no5)"
   ]
  },
  {
   "cell_type": "code",
   "execution_count": 8,
   "metadata": {},
   "outputs": [
    {
     "name": "stdout",
     "output_type": "stream",
     "text": [
      "(1, 5, 3)\n"
     ]
    }
   ],
   "source": [
    "# 7.在6*7*8的矩阵中第100个元素的索引\n",
    "print(np.unravel_index(99,(6,7,8)))"
   ]
  },
  {
   "cell_type": "code",
   "execution_count": 9,
   "metadata": {},
   "outputs": [
    {
     "name": "stdout",
     "output_type": "stream",
     "text": [
      "[[-0.99610222  0.29315123  0.87541644  1.26650842  0.94227658]\n",
      " [-0.68159098  0.10229637  1.65872235 -0.79528156 -0.76791866]\n",
      " [-1.4224365  -0.20085966 -0.73961938 -1.21962737  1.53941247]\n",
      " [-0.11816111  0.16838647  1.31740948 -1.32021309 -1.46142138]\n",
      " [ 0.46262438  0.80775467  1.45415156 -0.1182769  -1.0466016 ]]\n"
     ]
    }
   ],
   "source": [
    "# 8.标准化一个5*5的随机矩阵\n",
    "Z = np.random.random((5,5))\n",
    "Z = (Z - np.mean (Z)) / (np.std (Z))\n",
    "print(Z)"
   ]
  },
  {
   "cell_type": "code",
   "execution_count": 10,
   "metadata": {},
   "outputs": [
    {
     "name": "stdout",
     "output_type": "stream",
     "text": [
      "[[3. 3.]\n",
      " [3. 3.]\n",
      " [3. 3.]\n",
      " [3. 3.]\n",
      " [3. 3.]]\n",
      "[[3. 3.]\n",
      " [3. 3.]\n",
      " [3. 3.]\n",
      " [3. 3.]\n",
      " [3. 3.]]\n"
     ]
    }
   ],
   "source": [
    "# 9.5*3的矩阵和3*2的矩阵相乘\n",
    "Z = np.dot(np.ones((5,3)), np.ones((3,2)))\n",
    "print(Z)\n",
    "\n",
    "Z = np.ones((5,3)) @ np.ones((3,2))\n",
    "print(Z)"
   ]
  },
  {
   "cell_type": "code",
   "execution_count": 11,
   "metadata": {},
   "outputs": [
    {
     "name": "stdout",
     "output_type": "stream",
     "text": [
      "[8 7 7 2 8 4 0 3 8 2]\n",
      "[6 9 5 3 5 7 3 0 4 4]\n",
      "[0 3 4 7]\n"
     ]
    }
   ],
   "source": [
    "# 10.求两个列表的交集\n",
    "Z1 = np.random.randint(0,10,10)\n",
    "Z2 = np.random.randint(0,10,10)\n",
    "print(Z1)\n",
    "print(Z2)\n",
    "print(np.intersect1d(Z1,Z2))"
   ]
  },
  {
   "cell_type": "code",
   "execution_count": 12,
   "metadata": {},
   "outputs": [
    {
     "name": "stdout",
     "output_type": "stream",
     "text": [
      "2019-02-21\n",
      "2019-02-22\n",
      "2019-02-23\n"
     ]
    }
   ],
   "source": [
    "# 11.计算昨天，今天，明天的日期\n",
    "yesterday = np.datetime64('today', 'D') - np.timedelta64(1, 'D')\n",
    "today     = np.datetime64('today', 'D')\n",
    "tomorrow  = np.datetime64('today', 'D') + np.timedelta64(1, 'D')\n",
    "print(yesterday)\n",
    "print(today)\n",
    "print(tomorrow)"
   ]
  },
  {
   "cell_type": "code",
   "execution_count": 13,
   "metadata": {},
   "outputs": [
    {
     "name": "stdout",
     "output_type": "stream",
     "text": [
      "[5.17241162 2.22369571 0.6401267  8.05312264 8.76878538 9.66536617\n",
      " 4.61927252 5.11563741 1.06410135 6.38633412]\n",
      "[5. 2. 0. 8. 8. 9. 4. 5. 1. 6.]\n",
      "[5. 2. 0. 8. 8. 9. 4. 5. 1. 6.]\n",
      "[5. 2. 0. 8. 8. 9. 4. 5. 1. 6.]\n",
      "[5 2 0 8 8 9 4 5 1 6]\n",
      "[5. 2. 0. 8. 8. 9. 4. 5. 1. 6.]\n"
     ]
    }
   ],
   "source": [
    "# 12.求一个小数的整数部分\n",
    "Z = np.random.uniform(0,10,10)\n",
    "print(Z)\n",
    "print (Z - Z%1)\n",
    "print (np.floor(Z))\n",
    "print (np.ceil(Z)-1)\n",
    "print (Z.astype(int))\n",
    "print (np.trunc(Z))"
   ]
  },
  {
   "cell_type": "code",
   "execution_count": 14,
   "metadata": {},
   "outputs": [
    {
     "name": "stdout",
     "output_type": "stream",
     "text": [
      "[0.17015084 0.79337141 0.32738456 0.50730394 0.         0.47191745\n",
      " 0.44404164 0.32572959 0.02244862 0.31765436]\n"
     ]
    }
   ],
   "source": [
    "# 13.向量中最大值替换为0\n",
    "Z = np.random.random(10)\n",
    "Z[Z.argmax()] = 0\n",
    "print(Z)"
   ]
  },
  {
   "cell_type": "code",
   "execution_count": 15,
   "metadata": {},
   "outputs": [
    {
     "name": "stdout",
     "output_type": "stream",
     "text": [
      "[0 1 2 3 4 5 6 7 8 9]\n"
     ]
    }
   ],
   "source": [
    "# 14.将一个32位浮点型列表改为整型\n",
    "Z = np.arange(10, dtype=np.float32)\n",
    "Z = Z.astype(np.int32, copy=False)\n",
    "print(Z)"
   ]
  },
  {
   "cell_type": "code",
   "execution_count": 16,
   "metadata": {},
   "outputs": [
    {
     "name": "stdout",
     "output_type": "stream",
     "text": [
      "(0, 0) 0\n",
      "(0, 1) 1\n",
      "(0, 2) 2\n",
      "(1, 0) 3\n",
      "(1, 1) 4\n",
      "(1, 2) 5\n",
      "(2, 0) 6\n",
      "(2, 1) 7\n",
      "(2, 2) 8\n",
      "(0, 0) 0\n",
      "(0, 1) 1\n",
      "(0, 2) 2\n",
      "(1, 0) 3\n",
      "(1, 1) 4\n",
      "(1, 2) 5\n",
      "(2, 0) 6\n",
      "(2, 1) 7\n",
      "(2, 2) 8\n"
     ]
    }
   ],
   "source": [
    "# 15.遍历numpy数组元素并求出index\n",
    "Z = np.arange(9).reshape(3,3)\n",
    "for index, value in np.ndenumerate(Z):\n",
    "    print(index, value)\n",
    "for index in np.ndindex(Z.shape):\n",
    "    print(index, Z[index])"
   ]
  },
  {
   "cell_type": "code",
   "execution_count": 17,
   "metadata": {},
   "outputs": [
    {
     "name": "stdout",
     "output_type": "stream",
     "text": [
      "[[0. 0. 1. 0. 0. 0. 0. 0. 0. 0.]\n",
      " [0. 0. 0. 0. 0. 0. 0. 0. 0. 0.]\n",
      " [0. 0. 0. 0. 0. 0. 0. 0. 0. 0.]\n",
      " [0. 0. 0. 0. 0. 0. 0. 0. 0. 0.]\n",
      " [0. 0. 0. 0. 0. 0. 0. 0. 0. 0.]\n",
      " [0. 0. 0. 0. 0. 0. 0. 0. 0. 1.]\n",
      " [0. 0. 0. 0. 0. 0. 0. 0. 0. 0.]\n",
      " [0. 0. 0. 0. 0. 0. 0. 1. 0. 0.]\n",
      " [0. 0. 0. 0. 0. 0. 0. 0. 0. 0.]\n",
      " [0. 0. 0. 0. 0. 0. 0. 0. 0. 0.]]\n"
     ]
    }
   ],
   "source": [
    "# 16.在二维数组中随机替换p个元素\n",
    "n, p = 10, 3\n",
    "Z = np.zeros((n,n))\n",
    "np.put(Z, np.random.choice(range(n*n), p, replace=False),1)\n",
    "print(Z)"
   ]
  },
  {
   "cell_type": "code",
   "execution_count": 18,
   "metadata": {},
   "outputs": [
    {
     "name": "stdout",
     "output_type": "stream",
     "text": [
      "[[8 5 0]\n",
      " [9 1 9]\n",
      " [3 1 6]]\n",
      "[[3 1 6]\n",
      " [8 5 0]\n",
      " [9 1 9]]\n",
      "[[9 1 9]\n",
      " [3 1 6]\n",
      " [8 5 0]]\n"
     ]
    }
   ],
   "source": [
    "Z = np.random.randint(0,10,(3,3))\n",
    "print(Z)\n",
    "# 17.根据列来排序\n",
    "print(Z[Z[:,0].argsort()])\n",
    "# 18.根据行来排序\n",
    "print(Z[Z[:,1].argsort()])"
   ]
  },
  {
   "cell_type": "code",
   "execution_count": 19,
   "metadata": {},
   "outputs": [
    {
     "name": "stdout",
     "output_type": "stream",
     "text": [
      "[0.8107861  0.37817955 0.84301537 0.69813038 0.83498317 0.67487889\n",
      " 0.87366829 0.71500303 0.25101715 0.05785908]\n",
      "0.378179545380399\n"
     ]
    }
   ],
   "source": [
    "# 19.给定一个值，找出它最接近的值\n",
    "Z = np.random.uniform(0,1,10)\n",
    "print(Z)\n",
    "z = 0.5\n",
    "m = Z.flat[np.abs(Z - z).argmin()]\n",
    "print(m)"
   ]
  },
  {
   "cell_type": "code",
   "execution_count": 22,
   "metadata": {
    "scrolled": true
   },
   "outputs": [
    {
     "name": "stdout",
     "output_type": "stream",
     "text": [
      "[[0.05929652 0.18117115 0.02921185 0.99361793 0.04800246]\n",
      " [0.20349223 0.62080016 0.16316523 0.21271473 0.21406348]\n",
      " [0.94791932 0.15899386 0.83486011 0.26010131 0.91075891]\n",
      " [0.95473776 0.95924164 0.50892195 0.48454277 0.28881711]\n",
      " [0.64668084 0.0159172  0.15101882 0.96581615 0.39312768]]\n",
      "[[0.11074691 0.14082841 0.4122541  0.59962314 0.03176925]\n",
      " [0.92172701 0.22491201 0.18325148 0.20600922 0.39658802]\n",
      " [0.78996281 0.90943581 0.83536614 0.09821266 0.99916101]\n",
      " [0.20947984 0.04417633 0.84052288 0.58636492 0.36485336]\n",
      " [0.11694256 0.65930162 0.24534224 0.76033858 0.90489405]]\n",
      "[0.41038997 0.46720055 1.55940208 1.32379572 0.88586942]\n",
      "[0.41038997 0.46720055 1.55940208 1.32379572 0.88586942]\n",
      "[0.41038997 0.46720055 1.55940208 1.32379572 0.88586942]\n"
     ]
    }
   ],
   "source": [
    "# 20.求两个方阵乘积的对角线上的值\n",
    "A = np.random.uniform(0,1,(5,5))\n",
    "B = np.random.uniform(0,1,(5,5))\n",
    "print(A)\n",
    "print(B)\n",
    "\n",
    "# Slow version  \n",
    "d1 = np.diag(np.dot(A, B))\n",
    "print(d1)\n",
    "\n",
    "# Fast version\n",
    "d2 = np.sum(A * B.T, axis=1)\n",
    "print(d2)\n",
    "\n",
    "# Faster version\n",
    "d3 = np.einsum(\"ij,ji->i\", A, B)\n",
    "print(d3)"
   ]
  },
  {
   "cell_type": "code",
   "execution_count": 23,
   "metadata": {},
   "outputs": [
    {
     "name": "stdout",
     "output_type": "stream",
     "text": [
      "[[ 0  1  2  3  4]\n",
      " [ 5  6  7  8  9]\n",
      " [10 11 12 13 14]\n",
      " [15 16 17 18 19]\n",
      " [20 21 22 23 24]]\n",
      "[[ 5  6  7  8  9]\n",
      " [ 0  1  2  3  4]\n",
      " [10 11 12 13 14]\n",
      " [15 16 17 18 19]\n",
      " [20 21 22 23 24]]\n"
     ]
    }
   ],
   "source": [
    "# 21.交换一个矩阵的两行\n",
    "A = np.arange(25).reshape(5,5)\n",
    "print(A)\n",
    "A[[0,1]] = A[[1,0]]\n",
    "print(A)"
   ]
  },
  {
   "cell_type": "code",
   "execution_count": null,
   "metadata": {},
   "outputs": [],
   "source": []
  }
 ],
 "metadata": {
  "kernelspec": {
   "display_name": "Python 3",
   "language": "python",
   "name": "python3"
  },
  "language_info": {
   "codemirror_mode": {
    "name": "ipython",
    "version": 3
   },
   "file_extension": ".py",
   "mimetype": "text/x-python",
   "name": "python",
   "nbconvert_exporter": "python",
   "pygments_lexer": "ipython3",
   "version": "3.6.6"
  }
 },
 "nbformat": 4,
 "nbformat_minor": 2
}
