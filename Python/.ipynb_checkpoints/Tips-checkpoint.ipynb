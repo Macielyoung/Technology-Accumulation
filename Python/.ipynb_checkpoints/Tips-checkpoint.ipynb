{
 "cells": [
  {
   "cell_type": "code",
   "execution_count": 1,
   "metadata": {},
   "outputs": [
    {
     "name": "stdout",
     "output_type": "stream",
     "text": [
      "Coat\n"
     ]
    }
   ],
   "source": [
    "## 去除字符串中的小括号,中括号及其内部内容(贪心去除)\n",
    "import re\n",
    "\n",
    "## 去除小括号内容\n",
    "str1 = \"Coat (Clothing)\"\n",
    "res1 = re.sub(r'[(].*?[)]', ' ', str1).strip()\n",
    "print(res1)"
   ]
  },
  {
   "cell_type": "code",
   "execution_count": 2,
   "metadata": {},
   "outputs": [
    {
     "name": "stdout",
     "output_type": "stream",
     "text": [
      "His name is Albert Einstein. \n"
     ]
    }
   ],
   "source": [
    "## 去除中括号内容\n",
    "str2 = \"His name is Albert Einstein.[1]\"\n",
    "res2 = re.sub(r'\\[.*?\\]', ' ', str2)\n",
    "print(res2)"
   ]
  },
  {
   "cell_type": "code",
   "execution_count": 3,
   "metadata": {},
   "outputs": [
    {
     "name": "stdout",
     "output_type": "stream",
     "text": [
      "His name is Albert Einstein. He wears blue coat today.\n"
     ]
    }
   ],
   "source": [
    "## 同时去除小括号和中括号中内容\n",
    "str3 = \"His name is Albert Einstein[1]. He wears blue coat(Clothing) today.\"\n",
    "res3 = re.sub(r'\\[.*?\\]|[(].*?[)]', '', str3)\n",
    "print(res3)"
   ]
  },
  {
   "cell_type": "code",
   "execution_count": 4,
   "metadata": {},
   "outputs": [
    {
     "name": "stdout",
     "output_type": "stream",
     "text": [
      "res1: ['sadfdsf', 'ksdam', 'asdjjfa', 'asdajfwq']\n",
      "res2: ['ksdam', 'asdjjfa', 'asdajfwq']\n",
      "res3: ['ksdam', 'asdjjfa', 'asdajfwq']\n"
     ]
    }
   ],
   "source": [
    "## 删除一个列表中所有包含某字符串的元素，如将所有包含sad字符串的元素删除\n",
    "# 直接使用循环判断删除会删除不干净，主要因为从列表中删除元素时会更改元素的索引，从而遗漏某些元素判断\n",
    "list1 = ['sad', 'sadfdsf', 'sadasdsad', 'ksdam', 'asdjjfa', 'asdajfwq']\n",
    "for each in list1:\n",
    "    if 'sad' in each:\n",
    "        list1.remove(each)\n",
    "print(\"res1:\", list1)\n",
    "\n",
    "# 使用filter函数来过滤\n",
    "list2 = ['sad', 'sadfdsf', 'sadasdsad', 'ksdam', 'asdjjfa', 'asdajfwq']\n",
    "list2 = list(filter(lambda x: 'sad' not in x, list2))\n",
    "print(\"res2:\", list2)\n",
    "\n",
    "# 使用一个列表保存所有符合的元素，再求差集\n",
    "list3 = ['sad', 'sadfdsf', 'sadasdsad', 'ksdam', 'asdjjfa', 'asdajfwq']\n",
    "in_list = [each for each in list3 if 'sad' in each]\n",
    "not_in = [x for x in list3 if x not in in_list]\n",
    "print(\"res3:\", not_in)"
   ]
  },
  {
   "cell_type": "code",
   "execution_count": null,
   "metadata": {},
   "outputs": [],
   "source": []
  }
 ],
 "metadata": {
  "kernelspec": {
   "display_name": "Python 3",
   "language": "python",
   "name": "python3"
  },
  "language_info": {
   "codemirror_mode": {
    "name": "ipython",
    "version": 3
   },
   "file_extension": ".py",
   "mimetype": "text/x-python",
   "name": "python",
   "nbconvert_exporter": "python",
   "pygments_lexer": "ipython3",
   "version": "3.6.6"
  }
 },
 "nbformat": 4,
 "nbformat_minor": 2
}
