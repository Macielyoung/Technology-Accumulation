{
 "cells": [
  {
   "cell_type": "code",
   "execution_count": 1,
   "metadata": {},
   "outputs": [
    {
     "name": "stdout",
     "output_type": "stream",
     "text": [
      "Coat\n"
     ]
    }
   ],
   "source": [
    "## 去除字符串中的小括号,中括号及其内部内容(贪心去除)\n",
    "import re\n",
    "\n",
    "## 去除小括号内容\n",
    "str1 = \"Coat (Clothing)\"\n",
    "res1 = re.sub(r'[(].*?[)]', ' ', str1).strip()\n",
    "print(res1)"
   ]
  },
  {
   "cell_type": "code",
   "execution_count": 2,
   "metadata": {},
   "outputs": [
    {
     "name": "stdout",
     "output_type": "stream",
     "text": [
      "His name is Albert Einstein. \n"
     ]
    }
   ],
   "source": [
    "## 去除中括号内容\n",
    "str2 = \"His name is Albert Einstein.[1]\"\n",
    "res2 = re.sub(r'\\[.*?\\]', ' ', str2)\n",
    "print(res2)"
   ]
  },
  {
   "cell_type": "code",
   "execution_count": 3,
   "metadata": {},
   "outputs": [
    {
     "name": "stdout",
     "output_type": "stream",
     "text": [
      "His name is Albert Einstein. He wears blue coat today.\n"
     ]
    }
   ],
   "source": [
    "## 同时去除小括号和中括号中内容\n",
    "str3 = \"His name is Albert Einstein[1]. He wears blue coat(Clothing) today.\"\n",
    "res3 = re.sub(r'\\[.*?\\]|[(].*?[)]', '', str3)\n",
    "print(res3)"
   ]
  }
 ],
 "metadata": {
  "kernelspec": {
   "display_name": "Python 3",
   "language": "python",
   "name": "python3"
  },
  "language_info": {
   "codemirror_mode": {
    "name": "ipython",
    "version": 3
   },
   "file_extension": ".py",
   "mimetype": "text/x-python",
   "name": "python",
   "nbconvert_exporter": "python",
   "pygments_lexer": "ipython3",
   "version": "3.6.6"
  }
 },
 "nbformat": 4,
 "nbformat_minor": 2
}
